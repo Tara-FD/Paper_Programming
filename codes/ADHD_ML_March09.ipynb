{
 "cells": [
  {
   "cell_type": "code",
   "execution_count": 1,
   "metadata": {},
   "outputs": [],
   "source": [
    "# importing required libraries\n",
    "import numpy as np\n",
    "import matplotlib.pyplot as plt\n",
    "import pandas as pd\n",
    "import seaborn as sns\n",
    "from sklearn.decomposition import PCA\n",
    "from sklearn.preprocessing import StandardScaler, RobustScaler, MinMaxScaler\n",
    "from sklearn.ensemble import RandomForestClassifier, VotingClassifier\n",
    "from sklearn.model_selection import RandomizedSearchCV, LeaveOneOut, GridSearchCV, cross_val_score, train_test_split\n",
    "from sklearn.feature_selection import VarianceThreshold\n",
    "from sklearn.svm import SVC\n",
    "from xgboost import XGBClassifier\n",
    "from sklearn.metrics import confusion_matrix, classification_report, accuracy_score, roc_curve, roc_auc_score\n",
    "import scikitplot as skplt\n",
    "from IPython.display import clear_output\n",
    "from scipy.stats.stats import pearsonr\n",
    "from matplotlib.colors import ListedColormap\n",
    "from sklearn import neighbors\n",
    "from sklearn.neural_network import MLPClassifier\n",
    "from matplotlib import rc\n",
    "from sklearn.discriminant_analysis import LinearDiscriminantAnalysis, QuadraticDiscriminantAnalysis"
   ]
  },
  {
   "cell_type": "markdown",
   "metadata": {},
   "source": [
    "# *Data Cleaning*"
   ]
  },
  {
   "cell_type": "code",
   "execution_count": 2,
   "metadata": {},
   "outputs": [],
   "source": [
    "df = pd.read_csv(\"preprocessed_Data_25Jan.csv\").drop(columns = \"Unnamed: 0\")"
   ]
  },
  {
   "cell_type": "code",
   "execution_count": 3,
   "metadata": {},
   "outputs": [],
   "source": [
    "X = df.iloc[:, 2:].values\n",
    "y = df.iloc[:, 1].values\n",
    "\n",
    "X_train, X_test, y_train, y_test = train_test_split(X, y, test_size = 0.2, random_state = 123)\n",
    "scalar = StandardScaler().fit(X_train)\n",
    "X_train = scalar.transform(X_train)\n",
    "X_test = scalar.transform(X_test)"
   ]
  },
  {
   "cell_type": "markdown",
   "metadata": {},
   "source": [
    "# *Define functions*"
   ]
  },
  {
   "cell_type": "code",
   "execution_count": 4,
   "metadata": {},
   "outputs": [],
   "source": [
    "def Leave_one_out(Data, model, PrincipalComponent = False, LinearDiscriminant = False):\n",
    "    X = Data.iloc[:, 2:].values\n",
    "    #sel = VarianceThreshold()\n",
    "    #sel.fit_transform(X)\n",
    "    y = Data.iloc[:, 1].values\n",
    "    loo = LeaveOneOut()\n",
    "    #model = RandomForestClassifier()\n",
    "    proba = []\n",
    "    preds = []\n",
    "    actuals = []\n",
    "    pca = PCA(n_components=10)    \n",
    "    for train_index, test_index in loo.split(X):\n",
    "        X_train, X_test = X[train_index], X[test_index]\n",
    "        y_train, y_test = y[train_index], y[test_index]\n",
    "\n",
    "        scalar = MinMaxScaler().fit(X_train)\n",
    "        X_train = scalar.transform(X_train)\n",
    "        X_test = scalar.transform(X_test)\n",
    "\n",
    "        if PrincipalComponent == True:\n",
    "            pca = pca.fit(X_train)\n",
    "            X_train = pca.transform(X_train)\n",
    "            X_test = pca.transform(X_test)\n",
    "        if LinearDiscriminant == True:\n",
    "            lda = LinearDiscriminantAnalysis()\n",
    "            lda.fit(X_train, y_train)\n",
    "            X_train = lda.transform(X_train)\n",
    "            X_test = lda.transform(X_test)\n",
    "\n",
    "        model.fit(X_train, y_train)\n",
    "        preds.append(model.predict(X_test)[0])\n",
    "        actuals.append(y_test[0])\n",
    "        proba.append(list(model.predict_proba(X_test)[0]))\n",
    "    \n",
    "    return preds, actuals, np.array(proba)"
   ]
  },
  {
   "cell_type": "code",
   "execution_count": 5,
   "metadata": {},
   "outputs": [],
   "source": [
    "def Hyper_Tune(clf, param_grid):\n",
    "    gs = GridSearchCV(estimator=clf, param_grid = param_grid,\n",
    "                 cv = 3, scoring = 'accuracy', refit = True)\n",
    "    return gs"
   ]
  },
  {
   "cell_type": "markdown",
   "metadata": {},
   "source": [
    "# *Leave One Out*"
   ]
  },
  {
   "cell_type": "markdown",
   "metadata": {},
   "source": [
    " - LOO with K-NN"
   ]
  },
  {
   "cell_type": "code",
   "execution_count": 6,
   "metadata": {},
   "outputs": [
    {
     "name": "stdout",
     "output_type": "stream",
     "text": [
      "LOO Accuracy:  0.5982905982905983 \n",
      "\n",
      "Confusion Matrix: \n",
      "[[46 25]\n",
      " [22 24]] \n",
      "\n",
      "              precision    recall  f1-score   support\n",
      "\n",
      "           0       0.68      0.65      0.66        71\n",
      "           1       0.49      0.52      0.51        46\n",
      "\n",
      "    accuracy                           0.60       117\n",
      "   macro avg       0.58      0.58      0.58       117\n",
      "weighted avg       0.60      0.60      0.60       117\n",
      "\n"
     ]
    }
   ],
   "source": [
    "clf_KNN = neighbors.KNeighborsClassifier(5, weights=\"uniform\")\n",
    "Preds, Actuals, Scores = Leave_one_out(df, clf_KNN, PrincipalComponent=False, LinearDiscriminant=True)\n",
    "print(\"LOO Accuracy: \", np.mean(Scores), \"\\n\")\n",
    "confusion = confusion_matrix(Actuals, Preds)\n",
    "print(\"Confusion Matrix: \")\n",
    "print(confusion, \"\\n\")\n",
    "print(classification_report(Actuals, Preds))"
   ]
  },
  {
   "cell_type": "markdown",
   "metadata": {},
   "source": [
    "- LOO with SVM"
   ]
  },
  {
   "cell_type": "code",
   "execution_count": 102,
   "metadata": {},
   "outputs": [
    {
     "name": "stdout",
     "output_type": "stream",
     "text": [
      "LOO Accuracy:  0.6068376068376068 \n",
      "\n",
      "Confusion Matrix: \n",
      "[[47 24]\n",
      " [22 24]] \n",
      "\n",
      "              precision    recall  f1-score   support\n",
      "\n",
      "           0       0.68      0.66      0.67        71\n",
      "           1       0.50      0.52      0.51        46\n",
      "\n",
      "    accuracy                           0.61       117\n",
      "   macro avg       0.59      0.59      0.59       117\n",
      "weighted avg       0.61      0.61      0.61       117\n",
      "\n"
     ]
    }
   ],
   "source": [
    "# Linear SVM\n",
    "clf = SVC(random_state=1, probability=True)\n",
    "param_grid = {'C': [0.01, 0.1, 1, 10, 100, 1000],\n",
    "              'kernel': ['linear']}\n",
    "clf_lSVC = Hyper_Tune(clf, param_grid)\n",
    "Preds, Actuals, lsvc_probs = Leave_one_out(df, clf_lSVC, PrincipalComponent=False, LinearDiscriminant=True)\n",
    "print(\"LOO Accuracy: \", np.mean(Scores), \"\\n\")\n",
    "confusion = confusion_matrix(Actuals, Preds)\n",
    "print(\"Confusion Matrix: \")\n",
    "print(confusion, \"\\n\")\n",
    "print(classification_report(Actuals, Preds))"
   ]
  },
  {
   "cell_type": "code",
   "execution_count": 8,
   "metadata": {},
   "outputs": [
    {
     "name": "stdout",
     "output_type": "stream",
     "text": [
      "LOO Accuracy:  0.5641025641025641 \n",
      "\n",
      "Confusion Matrix: \n",
      "[[46 25]\n",
      " [26 20]] \n",
      "\n",
      "              precision    recall  f1-score   support\n",
      "\n",
      "           0       0.64      0.65      0.64        71\n",
      "           1       0.44      0.43      0.44        46\n",
      "\n",
      "    accuracy                           0.56       117\n",
      "   macro avg       0.54      0.54      0.54       117\n",
      "weighted avg       0.56      0.56      0.56       117\n",
      "\n"
     ]
    }
   ],
   "source": [
    "#non-linear SVM\n",
    "clf = SVC(random_state=1, probability=True)\n",
    "param_grid = {'C': [0.01, 0.1, 1, 10, 100, 1000],\n",
    "              'gamma': [1, 0.1, 0.01, 0.001, 0.0001],\n",
    "              'kernel': ['rbf']}\n",
    "clf_SVC = Hyper_Tune(clf, param_grid)\n",
    "Preds, Actuals, Scores = Leave_one_out(df, clf_SVC, PrincipalComponent=False, LinearDiscriminant=True)\n",
    "print(\"LOO Accuracy: \", np.mean(Scores), \"\\n\")\n",
    "confusion = confusion_matrix(Actuals, Preds)\n",
    "print(\"Confusion Matrix: \")\n",
    "print(confusion, \"\\n\")\n",
    "print(classification_report(Actuals, Preds))"
   ]
  },
  {
   "cell_type": "markdown",
   "metadata": {},
   "source": [
    "- LOO with Random Forest"
   ]
  },
  {
   "cell_type": "code",
   "execution_count": 6,
   "metadata": {},
   "outputs": [
    {
     "name": "stdout",
     "output_type": "stream",
     "text": [
      "LOO Accuracy:  0.5 \n",
      "\n",
      "Confusion Matrix: \n",
      "[[45 26]\n",
      " [22 24]] \n",
      "\n",
      "              precision    recall  f1-score   support\n",
      "\n",
      "           0       0.67      0.63      0.65        71\n",
      "           1       0.48      0.52      0.50        46\n",
      "\n",
      "    accuracy                           0.59       117\n",
      "   macro avg       0.58      0.58      0.58       117\n",
      "weighted avg       0.60      0.59      0.59       117\n",
      "\n"
     ]
    }
   ],
   "source": [
    "#clf_RF = RandomForestClassifier(n_estimators=100, criterion=\"entropy\", random_state=1)\n",
    "clf_RF = RandomForestClassifier(n_estimators=51, min_samples_split=10,\n",
    "                                min_samples_leaf=2, max_features='sqrt',\n",
    "                                max_depth=40, bootstrap=True,\n",
    "                                random_state=1)\n",
    "Preds, Actuals, Scores = Leave_one_out(df, clf_RF, PrincipalComponent=False, LinearDiscriminant=True)\n",
    "print(\"LOO Accuracy: \", np.mean(Scores), \"\\n\")\n",
    "confusion = confusion_matrix(Actuals, Preds)\n",
    "print(\"Confusion Matrix: \")\n",
    "print(confusion, \"\\n\")\n",
    "print(classification_report(Actuals, Preds))"
   ]
  },
  {
   "cell_type": "markdown",
   "metadata": {},
   "source": [
    "- LOO with MLP"
   ]
  },
  {
   "cell_type": "code",
   "execution_count": 417,
   "metadata": {},
   "outputs": [
    {
     "name": "stderr",
     "output_type": "stream",
     "text": [
      "/home/mohammad/DataScience/Python/lib/python3.8/site-packages/sklearn/neural_network/_multilayer_perceptron.py:549: ConvergenceWarning: lbfgs failed to converge (status=1):\n",
      "STOP: TOTAL NO. of ITERATIONS REACHED LIMIT.\n",
      "\n",
      "Increase the number of iterations (max_iter) or scale the data as shown in:\n",
      "    https://scikit-learn.org/stable/modules/preprocessing.html\n",
      "  self.n_iter_ = _check_optimize_result(\"lbfgs\", opt_res, self.max_iter)\n"
     ]
    },
    {
     "name": "stdout",
     "output_type": "stream",
     "text": [
      "LOO Accuracy:  0.5811965811965812 \n",
      "\n",
      "Confusion Matrix: \n",
      "[[45 26]\n",
      " [23 23]] \n",
      "\n",
      "              precision    recall  f1-score   support\n",
      "\n",
      "           0       0.66      0.63      0.65        71\n",
      "           1       0.47      0.50      0.48        46\n",
      "\n",
      "    accuracy                           0.58       117\n",
      "   macro avg       0.57      0.57      0.57       117\n",
      "weighted avg       0.59      0.58      0.58       117\n",
      "\n"
     ]
    }
   ],
   "source": [
    "clf_MLP = MLPClassifier(solver='lbfgs', alpha=1e-4, hidden_layer_sizes=(12, 4), random_state=1)\n",
    "Preds, Actuals, Scores = Leave_one_out(df, clf_MLP, PrincipalComponent=False, LinearDiscriminant=True)\n",
    "print(\"LOO Accuracy: \", np.mean(Scores), \"\\n\")\n",
    "confusion = confusion_matrix(Actuals, Preds)\n",
    "print(\"Confusion Matrix: \")\n",
    "print(confusion, \"\\n\")\n",
    "print(classification_report(Actuals, Preds))"
   ]
  },
  {
   "cell_type": "markdown",
   "metadata": {},
   "source": [
    "- Ensemble Voting Model"
   ]
  },
  {
   "cell_type": "code",
   "execution_count": 21,
   "metadata": {},
   "outputs": [
    {
     "name": "stdout",
     "output_type": "stream",
     "text": [
      "LOO Accuracy:  0.6068376068376068 \n",
      "\n",
      "Confusion Matrix: \n",
      "[[47 24]\n",
      " [22 24]] \n",
      "\n",
      "              precision    recall  f1-score   support\n",
      "\n",
      "           0       0.68      0.66      0.67        71\n",
      "           1       0.50      0.52      0.51        46\n",
      "\n",
      "    accuracy                           0.61       117\n",
      "   macro avg       0.59      0.59      0.59       117\n",
      "weighted avg       0.61      0.61      0.61       117\n",
      "\n"
     ]
    }
   ],
   "source": [
    "clf_ensemble = VotingClassifier(\n",
    "    estimators=[('Random Forest', clf_RF), ('K-NN', clf_KNN), ('SVC', clf_lSVC)],\n",
    "    voting='hard')\n",
    "Preds, Actuals, Scores = Leave_one_out(df, clf_ensemble, PrincipalComponent=False, LinearDiscriminant=True)\n",
    "print(\"LOO Accuracy: \", np.mean(Scores), \"\\n\")\n",
    "confusion = confusion_matrix(Actuals, Preds)\n",
    "print(\"Confusion Matrix: \")\n",
    "print(confusion, \"\\n\")\n",
    "print(classification_report(Actuals, Preds))"
   ]
  },
  {
   "cell_type": "markdown",
   "metadata": {
    "tags": []
   },
   "source": [
    "# *Neural Networks*\n",
    "- Multi Layer Perceptron (MLP)"
   ]
  },
  {
   "cell_type": "code",
   "execution_count": 401,
   "metadata": {},
   "outputs": [
    {
     "name": "stdout",
     "output_type": "stream",
     "text": [
      "Score on test:  0.875 \n",
      "\n",
      "Confusion Matrix: \n",
      "[[15  3]\n",
      " [ 0  6]]\n",
      "              precision    recall  f1-score   support\n",
      "\n",
      "           0       1.00      0.83      0.91        18\n",
      "           1       0.67      1.00      0.80         6\n",
      "\n",
      "    accuracy                           0.88        24\n",
      "   macro avg       0.83      0.92      0.85        24\n",
      "weighted avg       0.92      0.88      0.88        24\n",
      "\n"
     ]
    }
   ],
   "source": [
    "clf_MLP = MLPClassifier(solver='lbfgs', alpha=1e-4, hidden_layer_sizes=(12, 4), random_state=1)\n",
    "clf_MLP.fit(X_train, y_train)\n",
    "print(\"Score on test: \", clf_MLP.score(X_test, y_test), \"\\n\")\n",
    "confusion = confusion_matrix(y_test, clf_MLP.predict(X_test))\n",
    "print(\"Confusion Matrix: \")\n",
    "print(confusion)\n",
    "print(classification_report(y_test, clf_MLP.predict(X_test)))"
   ]
  },
  {
   "cell_type": "code",
   "execution_count": 52,
   "metadata": {},
   "outputs": [],
   "source": [
    "scalar = MinMaxScaler().fit_transform(X_test)\n",
    "\n",
    "lda = LinearDiscriminantAnalysis()\n",
    "X_ld = lda.fit_transform(X_test, y_test)"
   ]
  },
  {
   "cell_type": "code",
   "execution_count": 109,
   "metadata": {},
   "outputs": [],
   "source": [
    "#y_pred_proba = clf_lSVC.predict_proba(X_ld)[:, 1]\n",
    "y_pred_proba = lsvc_probs[:, 1]\n",
    "fpr, tpr, _ = roc_curve(y, y_pred_proba)"
   ]
  },
  {
   "cell_type": "code",
   "execution_count": 110,
   "metadata": {},
   "outputs": [],
   "source": [
    "auc = roc_auc_score(y, y_pred_proba)"
   ]
  },
  {
   "cell_type": "code",
   "execution_count": 123,
   "metadata": {},
   "outputs": [
    {
     "data": {
      "image/png": "[encoded data removed]",
      "text/plain": [
       "<Figure size 720x720 with 1 Axes>"
      ]
     },
     "metadata": {
      "needs_background": "light"
     },
     "output_type": "display_data"
    }
   ],
   "source": [
    "rc('figure', figsize=(10,10))\n",
    "font = {'family' : 'sans',\n",
    "        'weight' : 'normal',\n",
    "        'size'   : 24}\n",
    "rc('font', **font)\n",
    "rc('lines', linewidth=4)\n",
    "plt.plot(fpr,tpr,label=\"AUC=\"+str(auc)[:5])\n",
    "plt.legend(loc=4)\n",
    "plt.savefig(\"/home/mohammad/Programs/ADHD_Figs/ROC_LSVC.png\")\n",
    "plt.show()"
   ]
  },
  {
   "cell_type": "code",
   "execution_count": 125,
   "metadata": {},
   "outputs": [
    {
     "data": {
      "text/plain": [
       "array([0, 0, 0, 0, 1, 0, 1, 0, 0, 1, 0, 0, 0, 0, 0, 0, 1, 1, 0, 0, 0, 0,\n",
       "       1, 1, 0, 0, 0, 1, 0, 0, 1, 1, 0, 0, 0, 0, 0, 0, 1, 0, 0, 0, 0, 1,\n",
       "       0, 0, 1, 0, 0, 0, 0, 0, 0, 0, 0, 1, 0, 0, 1, 1, 0, 1, 1, 0, 1, 0,\n",
       "       1, 0, 0, 1, 1, 0, 0, 0, 0, 1, 1, 1, 1, 0, 1, 0, 1, 0, 1, 1, 1, 0,\n",
       "       0, 0, 1, 0, 1, 1, 1, 1, 1, 1, 0, 1, 0, 0, 1, 0, 1, 0, 0, 0, 1, 0,\n",
       "       1, 0, 1, 0, 0, 1, 1])"
      ]
     },
     "execution_count": 125,
     "metadata": {},
     "output_type": "execute_result"
    }
   ],
   "source": [
    "y"
   ]
  },
  {
   "cell_type": "code",
   "execution_count": 124,
   "metadata": {},
   "outputs": [
    {
     "data": {
      "text/plain": [
       "array([9.99998610e-01, 3.19009845e-03, 1.38179596e-04, 1.50365256e-03,\n",
       "       7.21226129e-01, 9.70629824e-01, 2.26043624e-02, 1.61987403e-01,\n",
       "       6.55648276e-06, 1.02887663e-03, 1.74955881e-04, 1.03810294e-03,\n",
       "       9.16861898e-02, 2.15671095e-03, 1.29736898e-01, 8.80446321e-01,\n",
       "       9.99990154e-01, 6.13093580e-01, 1.50351841e-03, 7.31982226e-03,\n",
       "       2.90091488e-02, 1.41009011e-01, 1.23508559e-03, 7.09994666e-03,\n",
       "       9.99999018e-01, 6.46806973e-01, 9.62778643e-03, 9.90773152e-01,\n",
       "       4.33956927e-02, 1.96542507e-02, 5.43595546e-06, 9.71108202e-03,\n",
       "       9.21652084e-04, 5.89045888e-01, 5.36190699e-04, 9.95807897e-01,\n",
       "       9.99999413e-01, 4.36868504e-02, 7.06416074e-02, 9.95128665e-01,\n",
       "       3.96702235e-01, 3.39397590e-04, 2.61910221e-01, 3.56891217e-02,\n",
       "       3.84024831e-01, 4.07197756e-01, 9.80543445e-01, 1.22529178e-03,\n",
       "       1.63755442e-03, 4.31956348e-01, 1.18595971e-03, 8.90388409e-01,\n",
       "       8.48175625e-01, 1.07745515e-02, 9.99987122e-01, 9.97131478e-01,\n",
       "       9.92870746e-01, 4.01616530e-02, 1.17724570e-03, 9.96697303e-01,\n",
       "       9.94432340e-01, 1.00000000e+00, 2.67179219e-01, 6.48236229e-05,\n",
       "       6.85352639e-04, 9.99999980e-01, 9.99999999e-01, 9.97347303e-01,\n",
       "       8.99853884e-03, 1.03451462e-02, 5.53863727e-01, 9.85318596e-01,\n",
       "       1.11448235e-03, 5.65005186e-01, 6.64384280e-02, 3.42290757e-02,\n",
       "       9.99995692e-01, 9.99999998e-01, 2.26419980e-01, 7.37789878e-05,\n",
       "       9.76609970e-01, 5.77861513e-05, 1.66326730e-01, 9.99998895e-01,\n",
       "       2.21571039e-01, 1.81608399e-04, 9.95923717e-01, 1.35047901e-01,\n",
       "       8.03319720e-03, 2.65750668e-04, 9.99999558e-01, 9.99991318e-01,\n",
       "       9.12723946e-01, 2.11539633e-02, 9.48875645e-01, 4.26486773e-03,\n",
       "       1.04903201e-01, 5.86679754e-02, 7.75514932e-01, 9.99993668e-01,\n",
       "       1.75898372e-02, 7.40334285e-01, 9.54267582e-01, 6.91931415e-02,\n",
       "       9.99996597e-01, 1.34091089e-03, 6.47235667e-03, 6.27331711e-01,\n",
       "       8.66843311e-02, 9.92285993e-01, 7.38661565e-01, 1.45815817e-03,\n",
       "       9.99999994e-01, 1.07110848e-01, 2.74855676e-03, 9.99999307e-01,\n",
       "       9.99999999e-01])"
      ]
     },
     "execution_count": 124,
     "metadata": {},
     "output_type": "execute_result"
    }
   ],
   "source": [
    "y_pred_proba"
   ]
  }
 ],
 "metadata": {
  "kernelspec": {
   "display_name": "Python 3",
   "language": "python",
   "name": "python3"
  },
  "language_info": {
   "codemirror_mode": {
    "name": "ipython",
    "version": 3
   },
   "file_extension": ".py",
   "mimetype": "text/x-python",
   "name": "python",
   "nbconvert_exporter": "python",
   "pygments_lexer": "ipython3",
   "version": "3.8.10"
  }
 },
 "nbformat": 4,
 "nbformat_minor": 5
}
