{
 "cells": [
  {
   "cell_type": "code",
   "execution_count": 1,
   "metadata": {},
   "outputs": [],
   "source": [
    "%config Completer.use_jedi = False"
   ]
  },
  {
   "cell_type": "code",
   "execution_count": 2,
   "metadata": {},
   "outputs": [],
   "source": [
    "import sklearn\n",
    "from matplotlib import pyplot as plt\n",
    "import numpy as np\n",
    "from sklearn.model_selection import train_test_split\n",
    "from sklearn.ensemble import RandomForestClassifier\n",
    "from sklearn import metrics\n",
    "import pandas as pd\n",
    "from sklearn.metrics import confusion_matrix\n",
    "from sklearn.metrics import plot_confusion_matrix\n",
    "from sklearn.svm import SVC\n",
    "import seaborn as sns\n",
    "from sklearn.ensemble import ExtraTreesClassifier\n",
    "import seaborn as sns\n",
    "from sklearn.decomposition import PCA\n",
    "from sklearn.preprocessing import StandardScaler, RobustScaler, MinMaxScaler\n",
    "from sklearn.ensemble import RandomForestClassifier, VotingClassifier\n",
    "from sklearn.model_selection import RandomizedSearchCV, LeaveOneOut, GridSearchCV, cross_val_score, train_test_split\n",
    "from sklearn.feature_selection import VarianceThreshold\n",
    "from sklearn.svm import SVC\n",
    "from xgboost import XGBClassifier\n",
    "from sklearn.metrics import confusion_matrix, classification_report, accuracy_score\n",
    "import scikitplot as skplt\n",
    "from IPython.display import clear_output\n",
    "from scipy.stats.stats import pearsonr\n",
    "from matplotlib.colors import ListedColormap\n",
    "from sklearn import neighbors\n",
    "from sklearn.neural_network import MLPClassifier\n",
    "from sklearn.discriminant_analysis import LinearDiscriminantAnalysis, QuadraticDiscriminantAnalysis\n",
    "import researchpy as rp\n",
    "import scipy.stats as stats\n"
   ]
  },
  {
   "cell_type": "code",
   "execution_count": 3,
   "metadata": {},
   "outputs": [
    {
     "data": {
      "text/html": [
       "<div>\n",
       "<style scoped>\n",
       "    .dataframe tbody tr th:only-of-type {\n",
       "        vertical-align: middle;\n",
       "    }\n",
       "\n",
       "    .dataframe tbody tr th {\n",
       "        vertical-align: top;\n",
       "    }\n",
       "\n",
       "    .dataframe thead th {\n",
       "        text-align: right;\n",
       "    }\n",
       "</style>\n",
       "<table border=\"1\" class=\"dataframe\">\n",
       "  <thead>\n",
       "    <tr style=\"text-align: right;\">\n",
       "      <th></th>\n",
       "      <th>Subject_ID</th>\n",
       "      <th>sws_total</th>\n",
       "      <th>diagadhd</th>\n",
       "      <th>CHILDgender</th>\n",
       "      <th>age</th>\n",
       "      <th>zReHo_17Networks_15</th>\n",
       "      <th>zfALFF_17Networks_2</th>\n",
       "      <th>zfALFF_17Networks_9</th>\n",
       "      <th>zDCwei_17Networks_9</th>\n",
       "      <th>zfALFF_17Networks_LH_ContA_IPS_1</th>\n",
       "      <th>...</th>\n",
       "      <th>zfALFF_mAmyg_L</th>\n",
       "      <th>zReHo_mAmyg_L</th>\n",
       "      <th>zfALFF_mAmyg_R</th>\n",
       "      <th>zfALFF_mPFtha_L</th>\n",
       "      <th>zfALFF_mPMtha_L</th>\n",
       "      <th>zDCwei_mPMtha_L</th>\n",
       "      <th>zfALFF_rHipp_L</th>\n",
       "      <th>zfALFF_rHipp_R</th>\n",
       "      <th>zfALFF_rTtha_L</th>\n",
       "      <th>zfALFF_rTtha_R</th>\n",
       "    </tr>\n",
       "  </thead>\n",
       "  <tbody>\n",
       "    <tr>\n",
       "      <th>0</th>\n",
       "      <td>sub-0015</td>\n",
       "      <td>1.513333</td>\n",
       "      <td>0</td>\n",
       "      <td>1</td>\n",
       "      <td>1</td>\n",
       "      <td>-0.259515</td>\n",
       "      <td>-0.445804</td>\n",
       "      <td>-0.787030</td>\n",
       "      <td>-0.726765</td>\n",
       "      <td>0.542752</td>\n",
       "      <td>...</td>\n",
       "      <td>-0.795787</td>\n",
       "      <td>-0.829478</td>\n",
       "      <td>-0.789197</td>\n",
       "      <td>-0.930684</td>\n",
       "      <td>-0.803501</td>\n",
       "      <td>-0.691142</td>\n",
       "      <td>-0.643343</td>\n",
       "      <td>-0.723022</td>\n",
       "      <td>-0.764751</td>\n",
       "      <td>-0.843242</td>\n",
       "    </tr>\n",
       "    <tr>\n",
       "      <th>1</th>\n",
       "      <td>sub-0085</td>\n",
       "      <td>2.560000</td>\n",
       "      <td>0</td>\n",
       "      <td>0</td>\n",
       "      <td>0</td>\n",
       "      <td>-0.297826</td>\n",
       "      <td>-0.304966</td>\n",
       "      <td>-0.601078</td>\n",
       "      <td>-0.560601</td>\n",
       "      <td>0.524940</td>\n",
       "      <td>...</td>\n",
       "      <td>-0.558171</td>\n",
       "      <td>-0.932965</td>\n",
       "      <td>-0.466499</td>\n",
       "      <td>-0.385898</td>\n",
       "      <td>-0.376317</td>\n",
       "      <td>-0.859369</td>\n",
       "      <td>-0.521729</td>\n",
       "      <td>-0.590964</td>\n",
       "      <td>-0.347692</td>\n",
       "      <td>-0.341996</td>\n",
       "    </tr>\n",
       "    <tr>\n",
       "      <th>2</th>\n",
       "      <td>sub-0134</td>\n",
       "      <td>2.346667</td>\n",
       "      <td>0</td>\n",
       "      <td>1</td>\n",
       "      <td>1</td>\n",
       "      <td>-0.356670</td>\n",
       "      <td>-0.231216</td>\n",
       "      <td>-0.799635</td>\n",
       "      <td>-0.502999</td>\n",
       "      <td>0.622862</td>\n",
       "      <td>...</td>\n",
       "      <td>-0.761522</td>\n",
       "      <td>-0.919923</td>\n",
       "      <td>-0.852347</td>\n",
       "      <td>-0.923286</td>\n",
       "      <td>-0.748549</td>\n",
       "      <td>-0.457888</td>\n",
       "      <td>-0.757014</td>\n",
       "      <td>-0.542870</td>\n",
       "      <td>-0.512793</td>\n",
       "      <td>-0.710494</td>\n",
       "    </tr>\n",
       "    <tr>\n",
       "      <th>3</th>\n",
       "      <td>sub-0152</td>\n",
       "      <td>2.066667</td>\n",
       "      <td>0</td>\n",
       "      <td>0</td>\n",
       "      <td>0</td>\n",
       "      <td>-0.239098</td>\n",
       "      <td>-0.223685</td>\n",
       "      <td>-0.485006</td>\n",
       "      <td>-0.609130</td>\n",
       "      <td>0.341035</td>\n",
       "      <td>...</td>\n",
       "      <td>-0.194898</td>\n",
       "      <td>-0.361161</td>\n",
       "      <td>-0.288980</td>\n",
       "      <td>-0.870195</td>\n",
       "      <td>-0.473556</td>\n",
       "      <td>-0.095526</td>\n",
       "      <td>-0.227366</td>\n",
       "      <td>-0.387561</td>\n",
       "      <td>-0.425914</td>\n",
       "      <td>-0.640255</td>\n",
       "    </tr>\n",
       "    <tr>\n",
       "      <th>4</th>\n",
       "      <td>sub-0260</td>\n",
       "      <td>3.120000</td>\n",
       "      <td>1</td>\n",
       "      <td>1</td>\n",
       "      <td>0</td>\n",
       "      <td>-0.274868</td>\n",
       "      <td>-0.356149</td>\n",
       "      <td>-0.853856</td>\n",
       "      <td>-0.746988</td>\n",
       "      <td>0.840104</td>\n",
       "      <td>...</td>\n",
       "      <td>-0.532710</td>\n",
       "      <td>-0.814824</td>\n",
       "      <td>-0.632024</td>\n",
       "      <td>-0.949422</td>\n",
       "      <td>-0.802675</td>\n",
       "      <td>-0.730072</td>\n",
       "      <td>-0.608427</td>\n",
       "      <td>-0.571504</td>\n",
       "      <td>-0.641054</td>\n",
       "      <td>-0.797962</td>\n",
       "    </tr>\n",
       "  </tbody>\n",
       "</table>\n",
       "<p>5 rows × 189 columns</p>\n",
       "</div>"
      ],
      "text/plain": [
       "  Subject_ID  sws_total  diagadhd  CHILDgender  age  zReHo_17Networks_15  \\\n",
       "0   sub-0015   1.513333         0            1    1            -0.259515   \n",
       "1   sub-0085   2.560000         0            0    0            -0.297826   \n",
       "2   sub-0134   2.346667         0            1    1            -0.356670   \n",
       "3   sub-0152   2.066667         0            0    0            -0.239098   \n",
       "4   sub-0260   3.120000         1            1    0            -0.274868   \n",
       "\n",
       "   zfALFF_17Networks_2  zfALFF_17Networks_9  zDCwei_17Networks_9  \\\n",
       "0            -0.445804            -0.787030            -0.726765   \n",
       "1            -0.304966            -0.601078            -0.560601   \n",
       "2            -0.231216            -0.799635            -0.502999   \n",
       "3            -0.223685            -0.485006            -0.609130   \n",
       "4            -0.356149            -0.853856            -0.746988   \n",
       "\n",
       "   zfALFF_17Networks_LH_ContA_IPS_1  ...  zfALFF_mAmyg_L  zReHo_mAmyg_L  \\\n",
       "0                          0.542752  ...       -0.795787      -0.829478   \n",
       "1                          0.524940  ...       -0.558171      -0.932965   \n",
       "2                          0.622862  ...       -0.761522      -0.919923   \n",
       "3                          0.341035  ...       -0.194898      -0.361161   \n",
       "4                          0.840104  ...       -0.532710      -0.814824   \n",
       "\n",
       "   zfALFF_mAmyg_R  zfALFF_mPFtha_L  zfALFF_mPMtha_L  zDCwei_mPMtha_L  \\\n",
       "0       -0.789197        -0.930684        -0.803501        -0.691142   \n",
       "1       -0.466499        -0.385898        -0.376317        -0.859369   \n",
       "2       -0.852347        -0.923286        -0.748549        -0.457888   \n",
       "3       -0.288980        -0.870195        -0.473556        -0.095526   \n",
       "4       -0.632024        -0.949422        -0.802675        -0.730072   \n",
       "\n",
       "   zfALFF_rHipp_L  zfALFF_rHipp_R  zfALFF_rTtha_L  zfALFF_rTtha_R  \n",
       "0       -0.643343       -0.723022       -0.764751       -0.843242  \n",
       "1       -0.521729       -0.590964       -0.347692       -0.341996  \n",
       "2       -0.757014       -0.542870       -0.512793       -0.710494  \n",
       "3       -0.227366       -0.387561       -0.425914       -0.640255  \n",
       "4       -0.608427       -0.571504       -0.641054       -0.797962  \n",
       "\n",
       "[5 rows x 189 columns]"
      ]
     },
     "execution_count": 3,
     "metadata": {},
     "output_type": "execute_result"
    }
   ],
   "source": [
    "df = pd.read_csv(\"~/Programming/Paper_Programming/csv files/preprocessed_data_march05.csv\").drop('Unnamed: 0', axis = 1)\n",
    "df = df.loc[:, (df != 0).any(axis=0)]\n",
    "df.head()"
   ]
  },
  {
   "cell_type": "markdown",
   "metadata": {},
   "source": [
    "- performing t-test"
   ]
  },
  {
   "cell_type": "markdown",
   "metadata": {},
   "source": [
    "#### checking the assumptions:\n",
    "##### 1. Are the two samples independent? -> Yes.\n",
    "##### 2. Population distributions are gaussian or non-gaussian? -> non-gaussian!"
   ]
  },
  {
   "cell_type": "code",
   "execution_count": 4,
   "metadata": {},
   "outputs": [
    {
     "data": {
      "image/png": "[encoded data removed]",
      "text/plain": [
       "<Figure size 432x288 with 2 Axes>"
      ]
     },
     "metadata": {
      "needs_background": "light"
     },
     "output_type": "display_data"
    }
   ],
   "source": [
    "df_adhd = df[df['diagadhd'] == 1]\n",
    "df_cn = df[df['diagadhd'] == 0]\n",
    "dist1 = df_adhd['sws_total']\n",
    "dist2 = df_cn['sws_total']\n",
    "\n",
    "fig, axs = plt.subplots(1, 2, sharey=True, tight_layout=True)\n",
    "\n",
    "# We can set the number of bins with the *bins* keyword argument.\n",
    "axs[0].hist(dist1)\n",
    "plt.figtext(.78, .8, \"cn-p-value=0.01\")\n",
    "plt.figtext(.73, .72, \"gaussian distribution\")\n",
    "axs[1].hist(dist2)\n",
    "plt.figtext(.28, .8, \"ADHD-p-value=0.58\")\n",
    "plt.figtext(.22, .72, \"non-gaussian distribution\")\n",
    "#plt.suptitle('The distribution of sleep scores in ADHD/normal groups',y=1, fontsize=15)\n",
    "plt.suptitle('sleep score',y=0, fontsize=12)\n",
    "plt.savefig('/home/tara/Programming/Paper_Programming/figures/sleep_distributions_gropus.jpg')"
   ]
  },
  {
   "cell_type": "code",
   "execution_count": 5,
   "metadata": {},
   "outputs": [],
   "source": [
    "#stats.normaltest(df_adhd[\"sws_total\"])[1]"
   ]
  },
  {
   "cell_type": "markdown",
   "metadata": {},
   "source": [
    "##### 3. Are there a homogeneity of variance? -> Yes.(with p-value=0.35 the groups have equal amounts of variations)"
   ]
  },
  {
   "cell_type": "code",
   "execution_count": 6,
   "metadata": {},
   "outputs": [
    {
     "data": {
      "text/plain": [
       "LeveneResult(statistic=0.8688629189405824, pvalue=0.3532231202882371)"
      ]
     },
     "execution_count": 6,
     "metadata": {},
     "output_type": "execute_result"
    }
   ],
   "source": [
    "stats.levene(df['sws_total'][df['diagadhd'] == 1],\n",
    "             df['sws_total'][df['diagadhd'] == 0],\n",
    "             center= 'mean')"
   ]
  },
  {
   "cell_type": "markdown",
   "metadata": {},
   "source": [
    "####  => Instead of t-test we should perform the non-parametric Wilcoxon-Mann-Whitney (or rank sum) test "
   ]
  },
  {
   "cell_type": "code",
   "execution_count": 7,
   "metadata": {},
   "outputs": [
    {
     "data": {
      "text/plain": [
       "RanksumsResult(statistic=1.420133969507447, pvalue=0.15556868245320343)"
      ]
     },
     "execution_count": 7,
     "metadata": {},
     "output_type": "execute_result"
    }
   ],
   "source": [
    "stats.ranksums(df_adhd['sws_total'], df_cn['sws_total'])"
   ]
  },
  {
   "cell_type": "markdown",
   "metadata": {
    "tags": []
   },
   "source": [
    "#### In above rank sum  test the null hypothesis is that the distributions are the same => with p-value > 0.05 the null hypothesis is valid and the distribution of sleep score in ADHD and cn are the same."
   ]
  },
  {
   "cell_type": "markdown",
   "metadata": {},
   "source": [
    "- Dataframe preprocessing"
   ]
  },
  {
   "cell_type": "markdown",
   "metadata": {},
   "source": [
    "#### 1. Handling outliers"
   ]
  },
  {
   "cell_type": "code",
   "execution_count": 8,
   "metadata": {},
   "outputs": [
    {
     "data": {
      "text/html": [
       "<div>\n",
       "<style scoped>\n",
       "    .dataframe tbody tr th:only-of-type {\n",
       "        vertical-align: middle;\n",
       "    }\n",
       "\n",
       "    .dataframe tbody tr th {\n",
       "        vertical-align: top;\n",
       "    }\n",
       "\n",
       "    .dataframe thead th {\n",
       "        text-align: right;\n",
       "    }\n",
       "</style>\n",
       "<table border=\"1\" class=\"dataframe\">\n",
       "  <thead>\n",
       "    <tr style=\"text-align: right;\">\n",
       "      <th></th>\n",
       "      <th>sws_total</th>\n",
       "      <th>diagadhd</th>\n",
       "    </tr>\n",
       "  </thead>\n",
       "  <tbody>\n",
       "    <tr>\n",
       "      <th>0</th>\n",
       "      <td>1.513333</td>\n",
       "      <td>0</td>\n",
       "    </tr>\n",
       "    <tr>\n",
       "      <th>1</th>\n",
       "      <td>2.560000</td>\n",
       "      <td>0</td>\n",
       "    </tr>\n",
       "    <tr>\n",
       "      <th>2</th>\n",
       "      <td>2.346667</td>\n",
       "      <td>0</td>\n",
       "    </tr>\n",
       "    <tr>\n",
       "      <th>3</th>\n",
       "      <td>2.066667</td>\n",
       "      <td>0</td>\n",
       "    </tr>\n",
       "    <tr>\n",
       "      <th>4</th>\n",
       "      <td>3.120000</td>\n",
       "      <td>1</td>\n",
       "    </tr>\n",
       "  </tbody>\n",
       "</table>\n",
       "</div>"
      ],
      "text/plain": [
       "   sws_total  diagadhd\n",
       "0   1.513333         0\n",
       "1   2.560000         0\n",
       "2   2.346667         0\n",
       "3   2.066667         0\n",
       "4   3.120000         1"
      ]
     },
     "execution_count": 8,
     "metadata": {},
     "output_type": "execute_result"
    }
   ],
   "source": [
    "df1 = df[['sws_total','diagadhd']]\n",
    "df1.head()"
   ]
  },
  {
   "cell_type": "code",
   "execution_count": 9,
   "metadata": {},
   "outputs": [],
   "source": [
    "i = 0\n",
    "j = 0\n",
    "q = 0 \n",
    "for column in df1.columns[1:]:\n",
    "    #print(column)\n",
    "    Q1 = df1[column].quantile(0.25)\n",
    "    Q3 = df1[column].quantile(0.75)\n",
    "    IQR = Q3-Q1\n",
    "    lower_extreme = Q1-1.5*IQR\n",
    "    upper_extreme = Q3+1.5*IQR\n",
    "    \n",
    "    if df1[df1[column]>upper_extreme].shape[0] > 0:\n",
    "        i = i+1\n",
    "        df_t = df1[df1[column]>upper_extreme]\n",
    "        inds = df_t['Subject_ID']\n",
    "        for ind in inds:\n",
    "            sub = df_t[df_t['Subject_ID']==ind]\n",
    "            dg = sub['diagadhd'].values[0]\n",
    "            mean = df1[column][(df1['diagadhd']==dg)&(df1['Subject_ID']!=ind)].mean()\n",
    "            df1[column][df1['Subject_ID']==ind] = mean\n",
    "    if df1[df1[column]<lower_extreme].shape[0] > 0:\n",
    "        j = j+1\n",
    "        df_t = df1[df1[column]<lower_extreme]\n",
    "        inds = df_t['Subject_ID']\n",
    "        for ind in inds:\n",
    "            sub = df_t[df_t['Subject_ID']==ind]\n",
    "            dg = sub['diagadhd'].values[0]\n",
    "            mean = df1[column][(df1['diagadhd']==dg)&(df1['Subject_ID']!=ind)].mean()\n",
    "            df1[column][df1['Subject_ID']==ind] = mean\n",
    "    if (df1[df1[column]<lower_extreme].shape[0] > 0) & (df1[df1[column]>upper_extreme].shape[0] > 0):\n",
    "        q = q+1"
   ]
  },
  {
   "cell_type": "code",
   "execution_count": 10,
   "metadata": {},
   "outputs": [
    {
     "name": "stdout",
     "output_type": "stream",
     "text": [
      "0 values were bigger than the upper extreme, and  0 values were smaller than the lower extreme. All are replaced by the quantile value of the column in its specific group (adhd/control).\n"
     ]
    }
   ],
   "source": [
    "print(i,'values were bigger than the upper extreme, and ', j, 'values were smaller than the lower extreme. All are replaced by the quantile value of the column in its specific group (adhd/control).')"
   ]
  },
  {
   "cell_type": "markdown",
   "metadata": {},
   "source": [
    "#### => No outliers"
   ]
  },
  {
   "cell_type": "markdown",
   "metadata": {},
   "source": [
    "#### 2. Feature scaling"
   ]
  },
  {
   "cell_type": "markdown",
   "metadata": {},
   "source": [
    "##### Checking the distribution of feature (sws_total)"
   ]
  },
  {
   "cell_type": "code",
   "execution_count": 11,
   "metadata": {},
   "outputs": [
    {
     "data": {
      "text/plain": [
       "NormaltestResult(statistic=6.320273949112914, pvalue=0.04241993023142285)"
      ]
     },
     "execution_count": 11,
     "metadata": {},
     "output_type": "execute_result"
    }
   ],
   "source": [
    "stats.normaltest(df[\"sws_total\"])"
   ]
  },
  {
   "cell_type": "markdown",
   "metadata": {
    "tags": []
   },
   "source": [
    "##### => Non-gaussian distribution => we use standardization method for feature scaling"
   ]
  },
  {
   "cell_type": "markdown",
   "metadata": {},
   "source": [
    "- Performin machine learning (prediction of adhd/cn with sleep score)"
   ]
  },
  {
   "cell_type": "code",
   "execution_count": 12,
   "metadata": {},
   "outputs": [],
   "source": [
    "def Leave_one_out(Data, model, PrincipalComponent = False, LinearDiscriminant = False):\n",
    "    X = Data.iloc[:, 1].values.reshape(-1, 1)\n",
    "    #sel = VarianceThreshold()\n",
    "    #sel.fit_transform(X)\n",
    "    y = Data.iloc[:, 2].values\n",
    "    loo = LeaveOneOut()\n",
    "    #model = RandomForestClassifier()\n",
    "    scores = []\n",
    "    preds = []\n",
    "    actuals = []\n",
    "    pca = PCA(n_components=10)    \n",
    "    for train_index, test_index in loo.split(X):\n",
    "        X_train, X_test = X[train_index], X[test_index]\n",
    "        y_train, y_test = y[train_index], y[test_index]\n",
    "\n",
    "        scalar = StandardScaler().fit(X_train)\n",
    "        X_train = scalar.transform(X_train)\n",
    "        X_test = scalar.transform(X_test)\n",
    "\n",
    "        if PrincipalComponent == True:\n",
    "            pca = pca.fit(X_train)\n",
    "            X_train = pca.transform(X_train)\n",
    "            X_test = pca.transform(X_test)\n",
    "        if LinearDiscriminant == True:\n",
    "            lda = LinearDiscriminantAnalysis()\n",
    "            lda.fit(X_train, y_train)\n",
    "            X_train = lda.transform(X_train)\n",
    "            X_test = lda.transform(X_test)\n",
    "\n",
    "        model.fit(X_train, y_train)\n",
    "        preds.append(model.predict(X_test)[0])\n",
    "        actuals.append(y_test[0])\n",
    "        scores.append(model.score(X_test, y_test))\n",
    "    \n",
    "    return preds, actuals, scores"
   ]
  },
  {
   "cell_type": "code",
   "execution_count": 13,
   "metadata": {},
   "outputs": [],
   "source": [
    "def Hyper_Tune(clf, param_grid):\n",
    "    gs = GridSearchCV(estimator=clf, param_grid = param_grid,\n",
    "                 cv = 3, scoring = 'accuracy', refit = True)\n",
    "    return gs"
   ]
  },
  {
   "cell_type": "markdown",
   "metadata": {},
   "source": [
    " - LOO with linear SVM"
   ]
  },
  {
   "cell_type": "code",
   "execution_count": 14,
   "metadata": {},
   "outputs": [
    {
     "name": "stdout",
     "output_type": "stream",
     "text": [
      "SVM-LOO Accuracy:  0.6068376068376068 \n",
      "\n",
      "Confusion Matrix: \n",
      "[[71  0]\n",
      " [46  0]] \n",
      "\n",
      "              precision    recall  f1-score   support\n",
      "\n",
      "           0       0.61      1.00      0.76        71\n",
      "           1       0.00      0.00      0.00        46\n",
      "\n",
      "    accuracy                           0.61       117\n",
      "   macro avg       0.30      0.50      0.38       117\n",
      "weighted avg       0.37      0.61      0.46       117\n",
      "\n"
     ]
    },
    {
     "name": "stderr",
     "output_type": "stream",
     "text": [
      "/home/tara/Programming/env/lib/python3.8/site-packages/sklearn/metrics/_classification.py:1318: UndefinedMetricWarning: Precision and F-score are ill-defined and being set to 0.0 in labels with no predicted samples. Use `zero_division` parameter to control this behavior.\n",
      "  _warn_prf(average, modifier, msg_start, len(result))\n",
      "/home/tara/Programming/env/lib/python3.8/site-packages/sklearn/metrics/_classification.py:1318: UndefinedMetricWarning: Precision and F-score are ill-defined and being set to 0.0 in labels with no predicted samples. Use `zero_division` parameter to control this behavior.\n",
      "  _warn_prf(average, modifier, msg_start, len(result))\n",
      "/home/tara/Programming/env/lib/python3.8/site-packages/sklearn/metrics/_classification.py:1318: UndefinedMetricWarning: Precision and F-score are ill-defined and being set to 0.0 in labels with no predicted samples. Use `zero_division` parameter to control this behavior.\n",
      "  _warn_prf(average, modifier, msg_start, len(result))\n"
     ]
    }
   ],
   "source": [
    "clf = SVC(random_state=1, probability=True)\n",
    "param_grid = {'C': [0.01, 0.1, 1, 10, 100, 1000],\n",
    "              'gamma': [1, 0.1, 0.01, 0.001, 0.0001],\n",
    "              'kernel': ['linear']}\n",
    "clf_SVC = Hyper_Tune(clf, param_grid)\n",
    "Preds, Actuals, Scores = Leave_one_out(df, clf_SVC, PrincipalComponent=False, LinearDiscriminant=False)\n",
    "print(\"SVM-LOO Accuracy: \", np.mean(Scores), \"\\n\")\n",
    "confusion_lsvm = confusion_matrix(Actuals, Preds)\n",
    "print(\"Confusion Matrix: \")\n",
    "print(confusion_lsvm, \"\\n\")\n",
    "print(classification_report(Actuals, Preds))"
   ]
  },
  {
   "cell_type": "markdown",
   "metadata": {},
   "source": [
    " - LOO with K-NN"
   ]
  },
  {
   "cell_type": "code",
   "execution_count": 15,
   "metadata": {},
   "outputs": [
    {
     "name": "stdout",
     "output_type": "stream",
     "text": [
      "KNN-LOO Accuracy:  0.5897435897435898 \n",
      "\n",
      "Confusion Matrix: \n",
      "[[62  9]\n",
      " [39  7]] \n",
      "\n",
      "              precision    recall  f1-score   support\n",
      "\n",
      "           0       0.61      0.87      0.72        71\n",
      "           1       0.44      0.15      0.23        46\n",
      "\n",
      "    accuracy                           0.59       117\n",
      "   macro avg       0.53      0.51      0.47       117\n",
      "weighted avg       0.54      0.59      0.53       117\n",
      "\n"
     ]
    }
   ],
   "source": [
    "clf = neighbors.KNeighborsClassifier()\n",
    "k_range = list(range(1, 31))\n",
    "param_grid = dict(n_neighbors=k_range)\n",
    "clf_KNN = Hyper_Tune(clf, param_grid)\n",
    "Preds, Actuals, Scores = Leave_one_out(df, clf_KNN, PrincipalComponent=False, LinearDiscriminant=False)\n",
    "print(\"KNN-LOO Accuracy: \", np.mean(Scores), \"\\n\")\n",
    "confusion_knn = confusion_matrix(Actuals, Preds)\n",
    "print(\"Confusion Matrix: \")\n",
    "print(confusion_knn, \"\\n\")\n",
    "print(classification_report(Actuals, Preds))"
   ]
  },
  {
   "cell_type": "markdown",
   "metadata": {},
   "source": [
    "- LOO with non-linear SVM"
   ]
  },
  {
   "cell_type": "code",
   "execution_count": 16,
   "metadata": {},
   "outputs": [
    {
     "name": "stdout",
     "output_type": "stream",
     "text": [
      "SVM-LOO Accuracy:  0.6153846153846154 \n",
      "\n",
      "Confusion Matrix: \n",
      "[[59 12]\n",
      " [33 13]] \n",
      "\n",
      "              precision    recall  f1-score   support\n",
      "\n",
      "           0       0.64      0.83      0.72        71\n",
      "           1       0.52      0.28      0.37        46\n",
      "\n",
      "    accuracy                           0.62       117\n",
      "   macro avg       0.58      0.56      0.55       117\n",
      "weighted avg       0.59      0.62      0.58       117\n",
      "\n"
     ]
    }
   ],
   "source": [
    "clf = SVC(random_state=1, probability=True)\n",
    "param_grid = {'C': [0.01, 0.1, 1, 10, 100, 1000],\n",
    "              'gamma': [1, 0.1, 0.01, 0.001, 0.0001],\n",
    "              'kernel': ['rbf']}\n",
    "clf_SVC = Hyper_Tune(clf, param_grid)\n",
    "Preds, Actuals, Scores = Leave_one_out(df, clf_SVC, PrincipalComponent=False, LinearDiscriminant=False)\n",
    "print(\"SVM-LOO Accuracy: \", np.mean(Scores), \"\\n\")\n",
    "confusion_nlsvm = confusion_matrix(Actuals, Preds)\n",
    "print(\"Confusion Matrix: \")\n",
    "print(confusion_nlsvm, \"\\n\")\n",
    "print(classification_report(Actuals, Preds))"
   ]
  },
  {
   "cell_type": "markdown",
   "metadata": {},
   "source": [
    "- LOO with Random Forest"
   ]
  },
  {
   "cell_type": "code",
   "execution_count": null,
   "metadata": {},
   "outputs": [],
   "source": [
    "clf = RandomForestClassifier()\n",
    "n_estimators = [int(x) for x in np.linspace(start = 40, stop = 100, num = 15)]\n",
    "max_features = ['auto', 'sqrt']\n",
    "max_depth = [int(x) for x in np.linspace(10, 110, num = 11)]\n",
    "max_depth.append(None)\n",
    "min_sample_split = [2, 5, 10]\n",
    "min_sample_leaf = [1, 2, 4]\n",
    "bootstrap = [True, False]\n",
    "param_grid = {'n_estimators': n_estimators,\n",
    "              'max_features': max_features,\n",
    "              'max_depth': max_depth,\n",
    "              'min_samples_split': min_sample_split,\n",
    "              'min_samples_leaf': min_sample_leaf,\n",
    "              'bootstrap': bootstrap}\n",
    "clf_RF = Hyper_Tune(clf, param_grid)\n",
    "Preds, Actuals, Scores = Leave_one_out(df, clf_RF, PrincipalComponent=False, LinearDiscriminant=False)\n",
    "print(\"RF-LOO Accuracy: \", np.mean(Scores), \"\\n\")\n",
    "confusion_rf = confusion_matrix(Actuals, Preds)\n",
    "print(\"Confusion Matrix: \")\n",
    "print(confusion_rf, \"\\n\")\n",
    "print(classification_report(Actuals, Preds))"
   ]
  },
  {
   "cell_type": "markdown",
   "metadata": {},
   "source": [
    "- Ensemble Voting Model"
   ]
  },
  {
   "cell_type": "code",
   "execution_count": null,
   "metadata": {},
   "outputs": [],
   "source": [
    "clf_ensemble = VotingClassifier(\n",
    "    estimators=[('Random Forest', clf_RF), ('K-NN', clf_KNN), ('SVC', clf_SVC)],\n",
    "    voting='hard')\n",
    "Preds, Actuals, Scores = Leave_one_out(df, clf_ensemble, PrincipalComponent=False)\n",
    "print(\"LOO Accuracy: \", np.mean(Scores), \"\\n\")\n",
    "confusion_en = confusion_matrix(Actuals, Preds)\n",
    "print(\"Confusion Matrix: \")\n",
    "print(confusion_en, \"\\n\")\n",
    "print(classification_report(Actuals, Preds))"
   ]
  },
  {
   "cell_type": "code",
   "execution_count": null,
   "metadata": {},
   "outputs": [],
   "source": []
  }
 ],
 "metadata": {
  "kernelspec": {
   "display_name": "Python 3",
   "language": "python",
   "name": "python3"
  },
  "language_info": {
   "codemirror_mode": {
    "name": "ipython",
    "version": 3
   },
   "file_extension": ".py",
   "mimetype": "text/x-python",
   "name": "python",
   "nbconvert_exporter": "python",
   "pygments_lexer": "ipython3",
   "version": "3.8.10"
  }
 },
 "nbformat": 4,
 "nbformat_minor": 4
}
